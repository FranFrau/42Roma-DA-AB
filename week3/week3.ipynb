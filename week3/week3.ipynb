{
 "cells": [
  {
   "cell_type": "code",
   "execution_count": 7,
   "metadata": {},
   "outputs": [],
   "source": [
    "import pandas as pd\n",
    "\n",
    "# 1\n",
    "csvfile = pd.read_csv('datasets/Salaries.csv')\n",
    "head = csvfile.head()\n",
    "# print (head)"
   ]
  },
  {
   "cell_type": "code",
   "execution_count": null,
   "metadata": {},
   "outputs": [],
   "source": [
    "import pandas as pd\n",
    "\n",
    "# 2\n",
    "csvfile = pd.read_csv('datasets/Salaries.csv')\n",
    "infos = csvfile.info()\n",
    "# print (infos)"
   ]
  },
  {
   "cell_type": "code",
   "execution_count": 9,
   "metadata": {},
   "outputs": [],
   "source": [
    "import pandas as pd\n",
    "\n",
    "# 3\n",
    "csvfile = pd.read_csv('datasets/Salaries.csv')\n",
    "df = csvfile[\"OvertimePay\"]\n",
    "max_value = df.max()\n",
    "# print(max_value)"
   ]
  },
  {
   "cell_type": "code",
   "execution_count": 10,
   "metadata": {},
   "outputs": [],
   "source": [
    "import pandas as pd\n",
    "\n",
    "# 4\n",
    "csvfile = pd.read_csv('datasets/Salaries.csv')\n",
    "df = csvfile[csvfile[\"EmployeeName\"] == \"JOSEPH DRISCOLL\"][\"JobTitle\"].iloc[0]\n",
    "# print(df)"
   ]
  },
  {
   "cell_type": "code",
   "execution_count": 11,
   "metadata": {},
   "outputs": [],
   "source": [
    "import pandas as pd\n",
    "\n",
    "# 5\n",
    "csvfile = pd.read_csv('datasets/Salaries.csv')\n",
    "df = csvfile[csvfile[\"EmployeeName\"] == \"JOSEPH DRISCOLL\"][\"TotalPayBenefits\"].iloc[0]\n",
    "# print(df)"
   ]
  },
  {
   "cell_type": "code",
   "execution_count": null,
   "metadata": {},
   "outputs": [],
   "source": [
    "import pandas as pd\n",
    "\n",
    "# 6\n",
    "csvfile = pd.read_csv('datasets/Salaries.csv')\n",
    "name = csvfile[csvfile['TotalPayBenefits'] == csvfile['TotalPayBenefits'].max()]['EmployeeName'].iloc[0]\n",
    "# print(name)"
   ]
  },
  {
   "cell_type": "code",
   "execution_count": null,
   "metadata": {},
   "outputs": [],
   "source": [
    "import pandas as pd\n",
    "\n",
    "# 7\n",
    "csvfile = pd.read_csv('datasets/Salaries.csv')\n",
    "name = csvfile[csvfile['TotalPayBenefits'] == csvfile['TotalPayBenefits'].min()]['EmployeeName'].iloc[0]\n",
    "# payment = csvfile[csvfile[\"EmployeeName\"] == \"Joe Lopez\"][\"TotalPayBenefits\"].iloc[0]\n",
    "# print(name, payment)\n",
    "# There is a question in the subject file. I think that i have to answer it. The stranger thing is that mr joe has a negative gain. Maybe he broke something in the company?"
   ]
  },
  {
   "cell_type": "code",
   "execution_count": null,
   "metadata": {},
   "outputs": [],
   "source": [
    "import pandas as pd\n",
    "\n",
    "# 8\n",
    "csvfile = pd.read_csv('datasets/Salaries.csv')\n",
    "average = csvfile.groupby(\"Year\").mean()[\"BasePay\"]\n",
    "# print(average)"
   ]
  },
  {
   "cell_type": "code",
   "execution_count": null,
   "metadata": {},
   "outputs": [],
   "source": [
    "import pandas as pd\n",
    "\n",
    "# 9\n",
    "csvfile = pd.read_csv('datasets/Salaries.csv')\n",
    "uniquesalaries = len(csvfile[\"JobTitle\"].unique())\n",
    "# print(uniquesalaries)"
   ]
  },
  {
   "cell_type": "code",
   "execution_count": null,
   "metadata": {},
   "outputs": [],
   "source": [
    "import pandas as pd\n",
    "\n",
    "# 10\n",
    "csvfile = pd.read_csv('datasets/Salaries.csv')\n",
    "commonjob = csvfile[\"JobTitle\"].value_counts().head()\n",
    "# print(commonjob)"
   ]
  },
  {
   "cell_type": "code",
   "execution_count": null,
   "metadata": {},
   "outputs": [],
   "source": [
    "import pandas as pd\n",
    "\n",
    "# 11\n",
    "csvfile = pd.read_csv('datasets/Salaries.csv')\n",
    "idk = sum(csvfile[csvfile['Year'] == 2013][\"JobTitle\"].value_counts() == 1)\n",
    "# print(idk)"
   ]
  },
  {
   "cell_type": "code",
   "execution_count": null,
   "metadata": {},
   "outputs": [],
   "source": [
    "import pandas as pd\n",
    "\n",
    "# 12\n",
    "csvfile = pd.read_csv('datasets/Salaries.csv')\n",
    "chiefsum = sum(csvfile['JobTitle'].apply(lambda x:\n",
    "\tTrue\n",
    "\t\tif \"chief\" in x.lower()\n",
    "\t\telse\n",
    "\tFalse))\n",
    "# print(chiefsum)"
   ]
  }
 ],
 "metadata": {
  "interpreter": {
   "hash": "aee8b7b246df8f9039afb4144a1f6fd8d2ca17a180786b69acc140d282b71a49"
  },
  "kernelspec": {
   "display_name": "Python 3.9.1 64-bit",
   "language": "python",
   "name": "python3"
  },
  "language_info": {
   "codemirror_mode": {
    "name": "ipython",
    "version": 3
   },
   "file_extension": ".py",
   "mimetype": "text/x-python",
   "name": "python",
   "nbconvert_exporter": "python",
   "pygments_lexer": "ipython3",
   "version": "3.9.1"
  },
  "orig_nbformat": 4
 },
 "nbformat": 4,
 "nbformat_minor": 2
}
