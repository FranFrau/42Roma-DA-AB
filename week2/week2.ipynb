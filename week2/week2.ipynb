{
 "cells": [
  {
   "cell_type": "code",
   "execution_count": 1,
   "metadata": {},
   "outputs": [],
   "source": [
    "import numpy as np\n",
    "from numpy import random\n",
    "import matplotlib.pyplot as plt\n",
    "\n",
    "def fill_arrays(array, start_nbr, final_nbr, range):\n",
    "\tbuffer = np.arange(start_nbr, final_nbr, range)\n",
    "\tind = np.arange(len(array))\n",
    "\tnp.put(array, ind, buffer)\n",
    "\treturn array\n",
    "\n",
    "def fill_matrix(matrix, number, pos_x, pos_y):\n",
    "\tmatrix.put(pos_x, number, pos_y)\n",
    "\treturn matrix\n",
    "# Part1\n",
    "# 1\n",
    "array_zeros = np.empty(10)\n",
    "array_zeros.fill(0)\n",
    "# 2\n",
    "array_ones = np.empty(10)\n",
    "array_ones.fill(1)\n",
    "# 3\n",
    "array_range = np.empty(41)\n",
    "array_range = fill_arrays(array_range, 10, 51, 1)\n",
    "# 4\n",
    "array_even = np.empty(21)\n",
    "array_even = fill_arrays(array_even, 10, 52, 2)\n",
    "# 5\n",
    "id_matrix = np.identity(3)\n",
    "# 5\n",
    "random_value = random.randint(0, 1)\n",
    "# 7\n",
    "nine_matrix = np.array([0., 0.11111111, 0.22222222, 0.33333333, 0.44444444, 0.55555555,0.66666667, 0.77777778, 0.88888889, 1. ])\n",
    "# Part2\n",
    "# 1\n",
    "nb = random.randint(random.randint(100), size=(random.randint(10), random.randint(10)))\n",
    "matrix = np.matrix(nb)\n",
    "# 2\n",
    "array = np.arange(12)\n",
    "matrix = array.reshape(4, 3)\n",
    "# 3\n",
    "nb = int(input(\"Inserisci un numero\\n\"))\n",
    "array = np.append(np.arange(nb - 1)/(nb - 1), 1)"
   ]
  }
 ],
 "metadata": {
  "interpreter": {
   "hash": "aee8b7b246df8f9039afb4144a1f6fd8d2ca17a180786b69acc140d282b71a49"
  },
  "kernelspec": {
   "display_name": "Python 3.9.1 64-bit",
   "language": "python",
   "name": "python3"
  },
  "language_info": {
   "codemirror_mode": {
    "name": "ipython",
    "version": 3
   },
   "file_extension": ".py",
   "mimetype": "text/x-python",
   "name": "python",
   "nbconvert_exporter": "python",
   "pygments_lexer": "ipython3",
   "version": "3.9.1"
  },
  "orig_nbformat": 4
 },
 "nbformat": 4,
 "nbformat_minor": 2
}
